{
 "cells": [
  {
   "cell_type": "markdown",
   "metadata": {},
   "source": [
    "# COVID in Broward County, Florida (2020-2021)"
   ]
  },
  {
   "cell_type": "markdown",
   "metadata": {},
   "source": [
    "Dwight Sablan"
   ]
  },
  {
   "cell_type": "markdown",
   "metadata": {},
   "source": [
    "The purpose of this analysis is to understand the coronavirus narrative in Broward County, Florida during the height of the pandemic. In this analysis use three datasets to understand different aspects about the pandemic.\n",
    "\n",
    "Datasets:\n",
    "- Confirmed Cases: COVID-19 data from John Hopkins University\n",
    "- Mask Mandates: U.S. State and Territorial Public Mask Mandates From April 10, 2020 through August 15, 2021\n",
    "- Masking Behaviors: New York Times mask usage by county in the United States"
   ]
  },
  {
   "cell_type": "code",
   "execution_count": 381,
   "metadata": {},
   "outputs": [],
   "source": [
    "#Import Dependencies\n",
    "import pandas as pd\n",
    "import numpy as np\n",
    "from numpy import diff\n",
    "import matplotlib.pyplot as plt\n",
    "import matplotlib.dates as mdates\n",
    "import matplotlib.cbook as cbook\n",
    "import matplotlib.patches as mpatches"
   ]
  },
  {
   "cell_type": "code",
   "execution_count": 209,
   "metadata": {},
   "outputs": [],
   "source": [
    "#Data locations\n",
    "file_1 = 'CONVENIENT_us_confirmed_cases.csv'\n",
    "file_2 = 'U.S._State_and_Territorial_Public_Mask_Mandates_From_April_10__2020_through_August_15__2021_by_County_by_Day.csv'\n",
    "file_3 = 'https://raw.githubusercontent.com/dwightsablan16/covid-19-data/master/mask-use/mask-use-by-county.csv'"
   ]
  },
  {
   "cell_type": "markdown",
   "metadata": {},
   "source": [
    "### Data Prep"
   ]
  },
  {
   "cell_type": "code",
   "execution_count": 210,
   "metadata": {},
   "outputs": [],
   "source": [
    "#Read in the data\n",
    "confirmedCasesData = pd.read_csv(file_1, low_memory = False)\n",
    "maskMandateData = pd.read_csv(file_2, low_memory = False)\n",
    "maskComplianceData = pd.read_csv(file_3, low_memory = False)"
   ]
  },
  {
   "cell_type": "markdown",
   "metadata": {},
   "source": [
    "Confirmed Cases Data"
   ]
  },
  {
   "cell_type": "code",
   "execution_count": 211,
   "metadata": {},
   "outputs": [
    {
     "data": {
      "text/html": [
       "<div>\n",
       "<style scoped>\n",
       "    .dataframe tbody tr th:only-of-type {\n",
       "        vertical-align: middle;\n",
       "    }\n",
       "\n",
       "    .dataframe tbody tr th {\n",
       "        vertical-align: top;\n",
       "    }\n",
       "\n",
       "    .dataframe thead th {\n",
       "        text-align: right;\n",
       "    }\n",
       "</style>\n",
       "<table border=\"1\" class=\"dataframe\">\n",
       "  <thead>\n",
       "    <tr style=\"text-align: right;\">\n",
       "      <th></th>\n",
       "      <th>Province_State</th>\n",
       "      <th>Alabama</th>\n",
       "      <th>Alabama.1</th>\n",
       "      <th>Alabama.2</th>\n",
       "      <th>Alabama.3</th>\n",
       "      <th>Alabama.4</th>\n",
       "      <th>Alabama.5</th>\n",
       "      <th>Alabama.6</th>\n",
       "      <th>Alabama.7</th>\n",
       "      <th>Alabama.8</th>\n",
       "      <th>...</th>\n",
       "      <th>Wyoming.15</th>\n",
       "      <th>Wyoming.16</th>\n",
       "      <th>Wyoming.17</th>\n",
       "      <th>Wyoming.18</th>\n",
       "      <th>Wyoming.19</th>\n",
       "      <th>Wyoming.20</th>\n",
       "      <th>Wyoming.21</th>\n",
       "      <th>Wyoming.22</th>\n",
       "      <th>Wyoming.23</th>\n",
       "      <th>Wyoming.24</th>\n",
       "    </tr>\n",
       "  </thead>\n",
       "  <tbody>\n",
       "    <tr>\n",
       "      <th>0</th>\n",
       "      <td>Admin2</td>\n",
       "      <td>Autauga</td>\n",
       "      <td>Baldwin</td>\n",
       "      <td>Barbour</td>\n",
       "      <td>Bibb</td>\n",
       "      <td>Blount</td>\n",
       "      <td>Bullock</td>\n",
       "      <td>Butler</td>\n",
       "      <td>Calhoun</td>\n",
       "      <td>Chambers</td>\n",
       "      <td>...</td>\n",
       "      <td>Park</td>\n",
       "      <td>Platte</td>\n",
       "      <td>Sheridan</td>\n",
       "      <td>Sublette</td>\n",
       "      <td>Sweetwater</td>\n",
       "      <td>Teton</td>\n",
       "      <td>Uinta</td>\n",
       "      <td>Unassigned</td>\n",
       "      <td>Washakie</td>\n",
       "      <td>Weston</td>\n",
       "    </tr>\n",
       "    <tr>\n",
       "      <th>1</th>\n",
       "      <td>1/23/20</td>\n",
       "      <td>0.0</td>\n",
       "      <td>0.0</td>\n",
       "      <td>0.0</td>\n",
       "      <td>0.0</td>\n",
       "      <td>0.0</td>\n",
       "      <td>0.0</td>\n",
       "      <td>0.0</td>\n",
       "      <td>0.0</td>\n",
       "      <td>0.0</td>\n",
       "      <td>...</td>\n",
       "      <td>0.0</td>\n",
       "      <td>0.0</td>\n",
       "      <td>0.0</td>\n",
       "      <td>0.0</td>\n",
       "      <td>0.0</td>\n",
       "      <td>0.0</td>\n",
       "      <td>0.0</td>\n",
       "      <td>0.0</td>\n",
       "      <td>0.0</td>\n",
       "      <td>0.0</td>\n",
       "    </tr>\n",
       "    <tr>\n",
       "      <th>2</th>\n",
       "      <td>1/24/20</td>\n",
       "      <td>0.0</td>\n",
       "      <td>0.0</td>\n",
       "      <td>0.0</td>\n",
       "      <td>0.0</td>\n",
       "      <td>0.0</td>\n",
       "      <td>0.0</td>\n",
       "      <td>0.0</td>\n",
       "      <td>0.0</td>\n",
       "      <td>0.0</td>\n",
       "      <td>...</td>\n",
       "      <td>0.0</td>\n",
       "      <td>0.0</td>\n",
       "      <td>0.0</td>\n",
       "      <td>0.0</td>\n",
       "      <td>0.0</td>\n",
       "      <td>0.0</td>\n",
       "      <td>0.0</td>\n",
       "      <td>0.0</td>\n",
       "      <td>0.0</td>\n",
       "      <td>0.0</td>\n",
       "    </tr>\n",
       "    <tr>\n",
       "      <th>3</th>\n",
       "      <td>1/25/20</td>\n",
       "      <td>0.0</td>\n",
       "      <td>0.0</td>\n",
       "      <td>0.0</td>\n",
       "      <td>0.0</td>\n",
       "      <td>0.0</td>\n",
       "      <td>0.0</td>\n",
       "      <td>0.0</td>\n",
       "      <td>0.0</td>\n",
       "      <td>0.0</td>\n",
       "      <td>...</td>\n",
       "      <td>0.0</td>\n",
       "      <td>0.0</td>\n",
       "      <td>0.0</td>\n",
       "      <td>0.0</td>\n",
       "      <td>0.0</td>\n",
       "      <td>0.0</td>\n",
       "      <td>0.0</td>\n",
       "      <td>0.0</td>\n",
       "      <td>0.0</td>\n",
       "      <td>0.0</td>\n",
       "    </tr>\n",
       "    <tr>\n",
       "      <th>4</th>\n",
       "      <td>1/26/20</td>\n",
       "      <td>0.0</td>\n",
       "      <td>0.0</td>\n",
       "      <td>0.0</td>\n",
       "      <td>0.0</td>\n",
       "      <td>0.0</td>\n",
       "      <td>0.0</td>\n",
       "      <td>0.0</td>\n",
       "      <td>0.0</td>\n",
       "      <td>0.0</td>\n",
       "      <td>...</td>\n",
       "      <td>0.0</td>\n",
       "      <td>0.0</td>\n",
       "      <td>0.0</td>\n",
       "      <td>0.0</td>\n",
       "      <td>0.0</td>\n",
       "      <td>0.0</td>\n",
       "      <td>0.0</td>\n",
       "      <td>0.0</td>\n",
       "      <td>0.0</td>\n",
       "      <td>0.0</td>\n",
       "    </tr>\n",
       "  </tbody>\n",
       "</table>\n",
       "<p>5 rows × 3343 columns</p>\n",
       "</div>"
      ],
      "text/plain": [
       "  Province_State  Alabama Alabama.1 Alabama.2 Alabama.3 Alabama.4 Alabama.5  \\\n",
       "0         Admin2  Autauga   Baldwin   Barbour      Bibb    Blount   Bullock   \n",
       "1        1/23/20      0.0       0.0       0.0       0.0       0.0       0.0   \n",
       "2        1/24/20      0.0       0.0       0.0       0.0       0.0       0.0   \n",
       "3        1/25/20      0.0       0.0       0.0       0.0       0.0       0.0   \n",
       "4        1/26/20      0.0       0.0       0.0       0.0       0.0       0.0   \n",
       "\n",
       "  Alabama.6 Alabama.7 Alabama.8  ... Wyoming.15 Wyoming.16 Wyoming.17  \\\n",
       "0    Butler   Calhoun  Chambers  ...       Park     Platte   Sheridan   \n",
       "1       0.0       0.0       0.0  ...        0.0        0.0        0.0   \n",
       "2       0.0       0.0       0.0  ...        0.0        0.0        0.0   \n",
       "3       0.0       0.0       0.0  ...        0.0        0.0        0.0   \n",
       "4       0.0       0.0       0.0  ...        0.0        0.0        0.0   \n",
       "\n",
       "  Wyoming.18  Wyoming.19 Wyoming.20 Wyoming.21  Wyoming.22 Wyoming.23  \\\n",
       "0   Sublette  Sweetwater      Teton      Uinta  Unassigned   Washakie   \n",
       "1        0.0         0.0        0.0        0.0         0.0        0.0   \n",
       "2        0.0         0.0        0.0        0.0         0.0        0.0   \n",
       "3        0.0         0.0        0.0        0.0         0.0        0.0   \n",
       "4        0.0         0.0        0.0        0.0         0.0        0.0   \n",
       "\n",
       "  Wyoming.24  \n",
       "0     Weston  \n",
       "1        0.0  \n",
       "2        0.0  \n",
       "3        0.0  \n",
       "4        0.0  \n",
       "\n",
       "[5 rows x 3343 columns]"
      ]
     },
     "execution_count": 211,
     "metadata": {},
     "output_type": "execute_result"
    }
   ],
   "source": [
    "#Confirmed cases data\n",
    "confirmedCasesData.head()"
   ]
  },
  {
   "cell_type": "code",
   "execution_count": 212,
   "metadata": {},
   "outputs": [],
   "source": [
    "#Set the County Name as the column headings\n",
    "confirmedCasesData.columns = confirmedCasesData.iloc[0]"
   ]
  },
  {
   "cell_type": "code",
   "execution_count": 213,
   "metadata": {},
   "outputs": [
    {
     "data": {
      "text/html": [
       "<div>\n",
       "<style scoped>\n",
       "    .dataframe tbody tr th:only-of-type {\n",
       "        vertical-align: middle;\n",
       "    }\n",
       "\n",
       "    .dataframe tbody tr th {\n",
       "        vertical-align: top;\n",
       "    }\n",
       "\n",
       "    .dataframe thead th {\n",
       "        text-align: right;\n",
       "    }\n",
       "</style>\n",
       "<table border=\"1\" class=\"dataframe\">\n",
       "  <thead>\n",
       "    <tr style=\"text-align: right;\">\n",
       "      <th></th>\n",
       "      <th>Admin2</th>\n",
       "      <th>Autauga</th>\n",
       "      <th>Baldwin</th>\n",
       "      <th>Barbour</th>\n",
       "      <th>Bibb</th>\n",
       "      <th>Blount</th>\n",
       "      <th>Bullock</th>\n",
       "      <th>Butler</th>\n",
       "      <th>Calhoun</th>\n",
       "      <th>Chambers</th>\n",
       "      <th>...</th>\n",
       "      <th>Park</th>\n",
       "      <th>Platte</th>\n",
       "      <th>Sheridan</th>\n",
       "      <th>Sublette</th>\n",
       "      <th>Sweetwater</th>\n",
       "      <th>Teton</th>\n",
       "      <th>Uinta</th>\n",
       "      <th>Unassigned</th>\n",
       "      <th>Washakie</th>\n",
       "      <th>Weston</th>\n",
       "    </tr>\n",
       "  </thead>\n",
       "  <tbody>\n",
       "    <tr>\n",
       "      <th>0</th>\n",
       "      <td>Admin2</td>\n",
       "      <td>Autauga</td>\n",
       "      <td>Baldwin</td>\n",
       "      <td>Barbour</td>\n",
       "      <td>Bibb</td>\n",
       "      <td>Blount</td>\n",
       "      <td>Bullock</td>\n",
       "      <td>Butler</td>\n",
       "      <td>Calhoun</td>\n",
       "      <td>Chambers</td>\n",
       "      <td>...</td>\n",
       "      <td>Park</td>\n",
       "      <td>Platte</td>\n",
       "      <td>Sheridan</td>\n",
       "      <td>Sublette</td>\n",
       "      <td>Sweetwater</td>\n",
       "      <td>Teton</td>\n",
       "      <td>Uinta</td>\n",
       "      <td>Unassigned</td>\n",
       "      <td>Washakie</td>\n",
       "      <td>Weston</td>\n",
       "    </tr>\n",
       "    <tr>\n",
       "      <th>1</th>\n",
       "      <td>1/23/20</td>\n",
       "      <td>0.0</td>\n",
       "      <td>0.0</td>\n",
       "      <td>0.0</td>\n",
       "      <td>0.0</td>\n",
       "      <td>0.0</td>\n",
       "      <td>0.0</td>\n",
       "      <td>0.0</td>\n",
       "      <td>0.0</td>\n",
       "      <td>0.0</td>\n",
       "      <td>...</td>\n",
       "      <td>0.0</td>\n",
       "      <td>0.0</td>\n",
       "      <td>0.0</td>\n",
       "      <td>0.0</td>\n",
       "      <td>0.0</td>\n",
       "      <td>0.0</td>\n",
       "      <td>0.0</td>\n",
       "      <td>0.0</td>\n",
       "      <td>0.0</td>\n",
       "      <td>0.0</td>\n",
       "    </tr>\n",
       "    <tr>\n",
       "      <th>2</th>\n",
       "      <td>1/24/20</td>\n",
       "      <td>0.0</td>\n",
       "      <td>0.0</td>\n",
       "      <td>0.0</td>\n",
       "      <td>0.0</td>\n",
       "      <td>0.0</td>\n",
       "      <td>0.0</td>\n",
       "      <td>0.0</td>\n",
       "      <td>0.0</td>\n",
       "      <td>0.0</td>\n",
       "      <td>...</td>\n",
       "      <td>0.0</td>\n",
       "      <td>0.0</td>\n",
       "      <td>0.0</td>\n",
       "      <td>0.0</td>\n",
       "      <td>0.0</td>\n",
       "      <td>0.0</td>\n",
       "      <td>0.0</td>\n",
       "      <td>0.0</td>\n",
       "      <td>0.0</td>\n",
       "      <td>0.0</td>\n",
       "    </tr>\n",
       "    <tr>\n",
       "      <th>3</th>\n",
       "      <td>1/25/20</td>\n",
       "      <td>0.0</td>\n",
       "      <td>0.0</td>\n",
       "      <td>0.0</td>\n",
       "      <td>0.0</td>\n",
       "      <td>0.0</td>\n",
       "      <td>0.0</td>\n",
       "      <td>0.0</td>\n",
       "      <td>0.0</td>\n",
       "      <td>0.0</td>\n",
       "      <td>...</td>\n",
       "      <td>0.0</td>\n",
       "      <td>0.0</td>\n",
       "      <td>0.0</td>\n",
       "      <td>0.0</td>\n",
       "      <td>0.0</td>\n",
       "      <td>0.0</td>\n",
       "      <td>0.0</td>\n",
       "      <td>0.0</td>\n",
       "      <td>0.0</td>\n",
       "      <td>0.0</td>\n",
       "    </tr>\n",
       "    <tr>\n",
       "      <th>4</th>\n",
       "      <td>1/26/20</td>\n",
       "      <td>0.0</td>\n",
       "      <td>0.0</td>\n",
       "      <td>0.0</td>\n",
       "      <td>0.0</td>\n",
       "      <td>0.0</td>\n",
       "      <td>0.0</td>\n",
       "      <td>0.0</td>\n",
       "      <td>0.0</td>\n",
       "      <td>0.0</td>\n",
       "      <td>...</td>\n",
       "      <td>0.0</td>\n",
       "      <td>0.0</td>\n",
       "      <td>0.0</td>\n",
       "      <td>0.0</td>\n",
       "      <td>0.0</td>\n",
       "      <td>0.0</td>\n",
       "      <td>0.0</td>\n",
       "      <td>0.0</td>\n",
       "      <td>0.0</td>\n",
       "      <td>0.0</td>\n",
       "    </tr>\n",
       "  </tbody>\n",
       "</table>\n",
       "<p>5 rows × 3343 columns</p>\n",
       "</div>"
      ],
      "text/plain": [
       "0   Admin2  Autauga  Baldwin  Barbour  Bibb  Blount  Bullock  Butler  Calhoun  \\\n",
       "0   Admin2  Autauga  Baldwin  Barbour  Bibb  Blount  Bullock  Butler  Calhoun   \n",
       "1  1/23/20      0.0      0.0      0.0   0.0     0.0      0.0     0.0      0.0   \n",
       "2  1/24/20      0.0      0.0      0.0   0.0     0.0      0.0     0.0      0.0   \n",
       "3  1/25/20      0.0      0.0      0.0   0.0     0.0      0.0     0.0      0.0   \n",
       "4  1/26/20      0.0      0.0      0.0   0.0     0.0      0.0     0.0      0.0   \n",
       "\n",
       "0  Chambers  ...  Park  Platte  Sheridan  Sublette  Sweetwater  Teton  Uinta  \\\n",
       "0  Chambers  ...  Park  Platte  Sheridan  Sublette  Sweetwater  Teton  Uinta   \n",
       "1       0.0  ...   0.0     0.0       0.0       0.0         0.0    0.0    0.0   \n",
       "2       0.0  ...   0.0     0.0       0.0       0.0         0.0    0.0    0.0   \n",
       "3       0.0  ...   0.0     0.0       0.0       0.0         0.0    0.0    0.0   \n",
       "4       0.0  ...   0.0     0.0       0.0       0.0         0.0    0.0    0.0   \n",
       "\n",
       "0  Unassigned  Washakie  Weston  \n",
       "0  Unassigned  Washakie  Weston  \n",
       "1         0.0       0.0     0.0  \n",
       "2         0.0       0.0     0.0  \n",
       "3         0.0       0.0     0.0  \n",
       "4         0.0       0.0     0.0  \n",
       "\n",
       "[5 rows x 3343 columns]"
      ]
     },
     "execution_count": 213,
     "metadata": {},
     "output_type": "execute_result"
    }
   ],
   "source": [
    "confirmedCasesData.head()"
   ]
  },
  {
   "cell_type": "code",
   "execution_count": 214,
   "metadata": {},
   "outputs": [],
   "source": [
    "#Get the daily cases for Broward county\n",
    "broward_daily_cases_df = confirmedCasesData[['Admin2', 'Broward']]\n",
    "broward_daily_cases_df = broward_daily_cases_df.tail(broward_daily_cases_df.shape[0] -1)"
   ]
  },
  {
   "cell_type": "code",
   "execution_count": 215,
   "metadata": {},
   "outputs": [],
   "source": [
    "#Set the column names of the dataframe\n",
    "broward_daily_cases_df.columns = ['Date', 'Cases']"
   ]
  },
  {
   "cell_type": "code",
   "execution_count": 216,
   "metadata": {},
   "outputs": [],
   "source": [
    "#Convert cases column to numeric values\n",
    "broward_daily_cases_df.Cases = pd.to_numeric(broward_daily_cases_df.Cases, errors='coerce')"
   ]
  },
  {
   "cell_type": "code",
   "execution_count": 217,
   "metadata": {},
   "outputs": [],
   "source": [
    "#Create a new column for cumulative daily cases\n",
    "broward_daily_cases_df['Cumulative Cases'] = broward_daily_cases_df['Cases'].cumsum()"
   ]
  },
  {
   "cell_type": "code",
   "execution_count": 220,
   "metadata": {},
   "outputs": [
    {
     "data": {
      "text/html": [
       "<div>\n",
       "<style scoped>\n",
       "    .dataframe tbody tr th:only-of-type {\n",
       "        vertical-align: middle;\n",
       "    }\n",
       "\n",
       "    .dataframe tbody tr th {\n",
       "        vertical-align: top;\n",
       "    }\n",
       "\n",
       "    .dataframe thead th {\n",
       "        text-align: right;\n",
       "    }\n",
       "</style>\n",
       "<table border=\"1\" class=\"dataframe\">\n",
       "  <thead>\n",
       "    <tr style=\"text-align: right;\">\n",
       "      <th></th>\n",
       "      <th>Date</th>\n",
       "      <th>Cases</th>\n",
       "      <th>Cumulative Cases</th>\n",
       "    </tr>\n",
       "  </thead>\n",
       "  <tbody>\n",
       "    <tr>\n",
       "      <th>1</th>\n",
       "      <td>1/23/20</td>\n",
       "      <td>0.0</td>\n",
       "      <td>0.0</td>\n",
       "    </tr>\n",
       "    <tr>\n",
       "      <th>2</th>\n",
       "      <td>1/24/20</td>\n",
       "      <td>0.0</td>\n",
       "      <td>0.0</td>\n",
       "    </tr>\n",
       "    <tr>\n",
       "      <th>3</th>\n",
       "      <td>1/25/20</td>\n",
       "      <td>0.0</td>\n",
       "      <td>0.0</td>\n",
       "    </tr>\n",
       "    <tr>\n",
       "      <th>4</th>\n",
       "      <td>1/26/20</td>\n",
       "      <td>0.0</td>\n",
       "      <td>0.0</td>\n",
       "    </tr>\n",
       "    <tr>\n",
       "      <th>5</th>\n",
       "      <td>1/27/20</td>\n",
       "      <td>0.0</td>\n",
       "      <td>0.0</td>\n",
       "    </tr>\n",
       "  </tbody>\n",
       "</table>\n",
       "</div>"
      ],
      "text/plain": [
       "      Date  Cases  Cumulative Cases\n",
       "1  1/23/20    0.0               0.0\n",
       "2  1/24/20    0.0               0.0\n",
       "3  1/25/20    0.0               0.0\n",
       "4  1/26/20    0.0               0.0\n",
       "5  1/27/20    0.0               0.0"
      ]
     },
     "execution_count": 220,
     "metadata": {},
     "output_type": "execute_result"
    }
   ],
   "source": [
    "#daily cases dataframe\n",
    "broward_daily_cases_df.head()"
   ]
  },
  {
   "cell_type": "markdown",
   "metadata": {},
   "source": [
    "Mask Mandate Data"
   ]
  },
  {
   "cell_type": "code",
   "execution_count": 218,
   "metadata": {},
   "outputs": [],
   "source": [
    "#Get the mask mandate data for Broward County\n",
    "broward_mask_mandate = maskMandateData[maskMandateData.County_Name == 'Broward County']"
   ]
  },
  {
   "cell_type": "code",
   "execution_count": 410,
   "metadata": {},
   "outputs": [
    {
     "data": {
      "text/html": [
       "<div>\n",
       "<style scoped>\n",
       "    .dataframe tbody tr th:only-of-type {\n",
       "        vertical-align: middle;\n",
       "    }\n",
       "\n",
       "    .dataframe tbody tr th {\n",
       "        vertical-align: top;\n",
       "    }\n",
       "\n",
       "    .dataframe thead th {\n",
       "        text-align: right;\n",
       "    }\n",
       "</style>\n",
       "<table border=\"1\" class=\"dataframe\">\n",
       "  <thead>\n",
       "    <tr style=\"text-align: right;\">\n",
       "      <th></th>\n",
       "      <th>State_Tribe_Territory</th>\n",
       "      <th>County_Name</th>\n",
       "      <th>FIPS_State</th>\n",
       "      <th>FIPS_County</th>\n",
       "      <th>date</th>\n",
       "      <th>order_code</th>\n",
       "      <th>Face_Masks_Required_in_Public</th>\n",
       "      <th>Source_of_Action</th>\n",
       "      <th>URL</th>\n",
       "      <th>Citation</th>\n",
       "    </tr>\n",
       "  </thead>\n",
       "  <tbody>\n",
       "    <tr>\n",
       "      <th>933975</th>\n",
       "      <td>FL</td>\n",
       "      <td>Broward County</td>\n",
       "      <td>12</td>\n",
       "      <td>11</td>\n",
       "      <td>8/11/2021</td>\n",
       "      <td>2</td>\n",
       "      <td>NaN</td>\n",
       "      <td>NaN</td>\n",
       "      <td>NaN</td>\n",
       "      <td>NaN</td>\n",
       "    </tr>\n",
       "    <tr>\n",
       "      <th>933976</th>\n",
       "      <td>FL</td>\n",
       "      <td>Broward County</td>\n",
       "      <td>12</td>\n",
       "      <td>11</td>\n",
       "      <td>8/12/2021</td>\n",
       "      <td>2</td>\n",
       "      <td>NaN</td>\n",
       "      <td>NaN</td>\n",
       "      <td>NaN</td>\n",
       "      <td>NaN</td>\n",
       "    </tr>\n",
       "    <tr>\n",
       "      <th>933977</th>\n",
       "      <td>FL</td>\n",
       "      <td>Broward County</td>\n",
       "      <td>12</td>\n",
       "      <td>11</td>\n",
       "      <td>8/13/2021</td>\n",
       "      <td>2</td>\n",
       "      <td>NaN</td>\n",
       "      <td>NaN</td>\n",
       "      <td>NaN</td>\n",
       "      <td>NaN</td>\n",
       "    </tr>\n",
       "    <tr>\n",
       "      <th>933978</th>\n",
       "      <td>FL</td>\n",
       "      <td>Broward County</td>\n",
       "      <td>12</td>\n",
       "      <td>11</td>\n",
       "      <td>8/14/2021</td>\n",
       "      <td>2</td>\n",
       "      <td>NaN</td>\n",
       "      <td>NaN</td>\n",
       "      <td>NaN</td>\n",
       "      <td>NaN</td>\n",
       "    </tr>\n",
       "    <tr>\n",
       "      <th>933979</th>\n",
       "      <td>FL</td>\n",
       "      <td>Broward County</td>\n",
       "      <td>12</td>\n",
       "      <td>11</td>\n",
       "      <td>8/15/2021</td>\n",
       "      <td>2</td>\n",
       "      <td>NaN</td>\n",
       "      <td>NaN</td>\n",
       "      <td>NaN</td>\n",
       "      <td>NaN</td>\n",
       "    </tr>\n",
       "  </tbody>\n",
       "</table>\n",
       "</div>"
      ],
      "text/plain": [
       "       State_Tribe_Territory     County_Name  FIPS_State  FIPS_County  \\\n",
       "933975                    FL  Broward County          12           11   \n",
       "933976                    FL  Broward County          12           11   \n",
       "933977                    FL  Broward County          12           11   \n",
       "933978                    FL  Broward County          12           11   \n",
       "933979                    FL  Broward County          12           11   \n",
       "\n",
       "             date  order_code Face_Masks_Required_in_Public Source_of_Action  \\\n",
       "933975  8/11/2021           2                           NaN              NaN   \n",
       "933976  8/12/2021           2                           NaN              NaN   \n",
       "933977  8/13/2021           2                           NaN              NaN   \n",
       "933978  8/14/2021           2                           NaN              NaN   \n",
       "933979  8/15/2021           2                           NaN              NaN   \n",
       "\n",
       "        URL Citation  \n",
       "933975  NaN      NaN  \n",
       "933976  NaN      NaN  \n",
       "933977  NaN      NaN  \n",
       "933978  NaN      NaN  \n",
       "933979  NaN      NaN  "
      ]
     },
     "execution_count": 410,
     "metadata": {},
     "output_type": "execute_result"
    }
   ],
   "source": [
    "#Mask mandate dataframe\n",
    "broward_mask_mandate.tail()"
   ]
  },
  {
   "cell_type": "markdown",
   "metadata": {},
   "source": [
    "Mask Compliance Data"
   ]
  },
  {
   "cell_type": "code",
   "execution_count": 219,
   "metadata": {},
   "outputs": [],
   "source": [
    "#Get the mask compliance data for Broward County\n",
    "broward_mask_compliance = maskComplianceData[maskComplianceData.COUNTYFP == 12011]"
   ]
  },
  {
   "cell_type": "code",
   "execution_count": 222,
   "metadata": {},
   "outputs": [
    {
     "data": {
      "text/html": [
       "<div>\n",
       "<style scoped>\n",
       "    .dataframe tbody tr th:only-of-type {\n",
       "        vertical-align: middle;\n",
       "    }\n",
       "\n",
       "    .dataframe tbody tr th {\n",
       "        vertical-align: top;\n",
       "    }\n",
       "\n",
       "    .dataframe thead th {\n",
       "        text-align: right;\n",
       "    }\n",
       "</style>\n",
       "<table border=\"1\" class=\"dataframe\">\n",
       "  <thead>\n",
       "    <tr style=\"text-align: right;\">\n",
       "      <th></th>\n",
       "      <th>COUNTYFP</th>\n",
       "      <th>NEVER</th>\n",
       "      <th>RARELY</th>\n",
       "      <th>SOMETIMES</th>\n",
       "      <th>FREQUENTLY</th>\n",
       "      <th>ALWAYS</th>\n",
       "    </tr>\n",
       "  </thead>\n",
       "  <tbody>\n",
       "    <tr>\n",
       "      <th>325</th>\n",
       "      <td>12011</td>\n",
       "      <td>0.026</td>\n",
       "      <td>0.023</td>\n",
       "      <td>0.043</td>\n",
       "      <td>0.117</td>\n",
       "      <td>0.791</td>\n",
       "    </tr>\n",
       "  </tbody>\n",
       "</table>\n",
       "</div>"
      ],
      "text/plain": [
       "     COUNTYFP  NEVER  RARELY  SOMETIMES  FREQUENTLY  ALWAYS\n",
       "325     12011  0.026   0.023      0.043       0.117   0.791"
      ]
     },
     "execution_count": 222,
     "metadata": {},
     "output_type": "execute_result"
    }
   ],
   "source": [
    "#Mask compliance dataframe\n",
    "broward_mask_compliance"
   ]
  },
  {
   "cell_type": "markdown",
   "metadata": {},
   "source": [
    "### Data Cleaning"
   ]
  },
  {
   "cell_type": "markdown",
   "metadata": {},
   "source": [
    "Mask Mandate Data"
   ]
  },
  {
   "cell_type": "code",
   "execution_count": 223,
   "metadata": {},
   "outputs": [
    {
     "data": {
      "text/html": [
       "<div>\n",
       "<style scoped>\n",
       "    .dataframe tbody tr th:only-of-type {\n",
       "        vertical-align: middle;\n",
       "    }\n",
       "\n",
       "    .dataframe tbody tr th {\n",
       "        vertical-align: top;\n",
       "    }\n",
       "\n",
       "    .dataframe thead th {\n",
       "        text-align: right;\n",
       "    }\n",
       "</style>\n",
       "<table border=\"1\" class=\"dataframe\">\n",
       "  <thead>\n",
       "    <tr style=\"text-align: right;\">\n",
       "      <th></th>\n",
       "      <th>State_Tribe_Territory</th>\n",
       "      <th>County_Name</th>\n",
       "      <th>FIPS_State</th>\n",
       "      <th>FIPS_County</th>\n",
       "      <th>date</th>\n",
       "      <th>order_code</th>\n",
       "      <th>Face_Masks_Required_in_Public</th>\n",
       "      <th>Source_of_Action</th>\n",
       "      <th>URL</th>\n",
       "      <th>Citation</th>\n",
       "    </tr>\n",
       "  </thead>\n",
       "  <tbody>\n",
       "  </tbody>\n",
       "</table>\n",
       "</div>"
      ],
      "text/plain": [
       "Empty DataFrame\n",
       "Columns: [State_Tribe_Territory, County_Name, FIPS_State, FIPS_County, date, order_code, Face_Masks_Required_in_Public, Source_of_Action, URL, Citation]\n",
       "Index: []"
      ]
     },
     "execution_count": 223,
     "metadata": {},
     "output_type": "execute_result"
    }
   ],
   "source": [
    "#check mask mandates that don't equal 2\n",
    "broward_mask_mandate[broward_mask_mandate.order_code != 2]"
   ]
  },
  {
   "cell_type": "code",
   "execution_count": 224,
   "metadata": {},
   "outputs": [
    {
     "name": "stdout",
     "output_type": "stream",
     "text": [
      "[nan]\n",
      "[nan]\n"
     ]
    }
   ],
   "source": [
    "#find unique values \n",
    "print(broward_mask_mandate.Face_Masks_Required_in_Public.unique())\n",
    "print(broward_mask_mandate.Source_of_Action.unique())"
   ]
  },
  {
   "cell_type": "markdown",
   "metadata": {},
   "source": [
    "From this finding we see that for all days collected, the mandate requires individuals operating in a personal capacity to wear masks both in retail businesses and in restaurants/food establishments."
   ]
  },
  {
   "cell_type": "markdown",
   "metadata": {},
   "source": [
    "Daily Cases Data"
   ]
  },
  {
   "cell_type": "code",
   "execution_count": 225,
   "metadata": {},
   "outputs": [
    {
     "data": {
      "text/html": [
       "<div>\n",
       "<style scoped>\n",
       "    .dataframe tbody tr th:only-of-type {\n",
       "        vertical-align: middle;\n",
       "    }\n",
       "\n",
       "    .dataframe tbody tr th {\n",
       "        vertical-align: top;\n",
       "    }\n",
       "\n",
       "    .dataframe thead th {\n",
       "        text-align: right;\n",
       "    }\n",
       "</style>\n",
       "<table border=\"1\" class=\"dataframe\">\n",
       "  <thead>\n",
       "    <tr style=\"text-align: right;\">\n",
       "      <th></th>\n",
       "      <th>Date</th>\n",
       "      <th>Cases</th>\n",
       "      <th>Cumulative Cases</th>\n",
       "    </tr>\n",
       "  </thead>\n",
       "  <tbody>\n",
       "    <tr>\n",
       "      <th>552</th>\n",
       "      <td>7/27/21</td>\n",
       "      <td>0.0</td>\n",
       "      <td>262319.0</td>\n",
       "    </tr>\n",
       "    <tr>\n",
       "      <th>553</th>\n",
       "      <td>7/28/21</td>\n",
       "      <td>0.0</td>\n",
       "      <td>262319.0</td>\n",
       "    </tr>\n",
       "    <tr>\n",
       "      <th>554</th>\n",
       "      <td>7/29/21</td>\n",
       "      <td>0.0</td>\n",
       "      <td>262319.0</td>\n",
       "    </tr>\n",
       "    <tr>\n",
       "      <th>555</th>\n",
       "      <td>7/30/21</td>\n",
       "      <td>9081.0</td>\n",
       "      <td>271400.0</td>\n",
       "    </tr>\n",
       "    <tr>\n",
       "      <th>556</th>\n",
       "      <td>7/31/21</td>\n",
       "      <td>0.0</td>\n",
       "      <td>271400.0</td>\n",
       "    </tr>\n",
       "    <tr>\n",
       "      <th>...</th>\n",
       "      <td>...</td>\n",
       "      <td>...</td>\n",
       "      <td>...</td>\n",
       "    </tr>\n",
       "    <tr>\n",
       "      <th>647</th>\n",
       "      <td>10/30/21</td>\n",
       "      <td>0.0</td>\n",
       "      <td>359760.0</td>\n",
       "    </tr>\n",
       "    <tr>\n",
       "      <th>648</th>\n",
       "      <td>10/31/21</td>\n",
       "      <td>0.0</td>\n",
       "      <td>359760.0</td>\n",
       "    </tr>\n",
       "    <tr>\n",
       "      <th>649</th>\n",
       "      <td>11/1/21</td>\n",
       "      <td>0.0</td>\n",
       "      <td>359760.0</td>\n",
       "    </tr>\n",
       "    <tr>\n",
       "      <th>650</th>\n",
       "      <td>11/2/21</td>\n",
       "      <td>0.0</td>\n",
       "      <td>359760.0</td>\n",
       "    </tr>\n",
       "    <tr>\n",
       "      <th>651</th>\n",
       "      <td>11/3/21</td>\n",
       "      <td>0.0</td>\n",
       "      <td>359760.0</td>\n",
       "    </tr>\n",
       "  </tbody>\n",
       "</table>\n",
       "<p>100 rows × 3 columns</p>\n",
       "</div>"
      ],
      "text/plain": [
       "         Date   Cases  Cumulative Cases\n",
       "552   7/27/21     0.0          262319.0\n",
       "553   7/28/21     0.0          262319.0\n",
       "554   7/29/21     0.0          262319.0\n",
       "555   7/30/21  9081.0          271400.0\n",
       "556   7/31/21     0.0          271400.0\n",
       "..        ...     ...               ...\n",
       "647  10/30/21     0.0          359760.0\n",
       "648  10/31/21     0.0          359760.0\n",
       "649   11/1/21     0.0          359760.0\n",
       "650   11/2/21     0.0          359760.0\n",
       "651   11/3/21     0.0          359760.0\n",
       "\n",
       "[100 rows x 3 columns]"
      ]
     },
     "execution_count": 225,
     "metadata": {},
     "output_type": "execute_result"
    }
   ],
   "source": [
    "#Check what the data for the last few days looked like\n",
    "broward_daily_cases_df.tail(100)"
   ]
  },
  {
   "cell_type": "markdown",
   "metadata": {},
   "source": [
    "From this finding we see that daily cases were actually weekly cases for last few months."
   ]
  },
  {
   "cell_type": "markdown",
   "metadata": {},
   "source": [
    "Mask Compliance Data - No cleaning necessary."
   ]
  },
  {
   "cell_type": "markdown",
   "metadata": {},
   "source": [
    "### Data Visualization"
   ]
  },
  {
   "cell_type": "code",
   "execution_count": 226,
   "metadata": {},
   "outputs": [],
   "source": [
    "#Broward county population\n",
    "broward_population = 1944375"
   ]
  },
  {
   "cell_type": "code",
   "execution_count": 227,
   "metadata": {},
   "outputs": [],
   "source": [
    "#rate of infection function \n",
    "broward_daily_cases_df['infection rate'] = broward_daily_cases_df['Cases']/broward_population"
   ]
  },
  {
   "cell_type": "code",
   "execution_count": 228,
   "metadata": {},
   "outputs": [
    {
     "data": {
      "text/html": [
       "<div>\n",
       "<style scoped>\n",
       "    .dataframe tbody tr th:only-of-type {\n",
       "        vertical-align: middle;\n",
       "    }\n",
       "\n",
       "    .dataframe tbody tr th {\n",
       "        vertical-align: top;\n",
       "    }\n",
       "\n",
       "    .dataframe thead th {\n",
       "        text-align: right;\n",
       "    }\n",
       "</style>\n",
       "<table border=\"1\" class=\"dataframe\">\n",
       "  <thead>\n",
       "    <tr style=\"text-align: right;\">\n",
       "      <th></th>\n",
       "      <th>Date</th>\n",
       "      <th>Cases</th>\n",
       "      <th>Cumulative Cases</th>\n",
       "      <th>infection rate</th>\n",
       "    </tr>\n",
       "  </thead>\n",
       "  <tbody>\n",
       "    <tr>\n",
       "      <th>647</th>\n",
       "      <td>10/30/21</td>\n",
       "      <td>0.0</td>\n",
       "      <td>359760.0</td>\n",
       "      <td>0.0</td>\n",
       "    </tr>\n",
       "    <tr>\n",
       "      <th>648</th>\n",
       "      <td>10/31/21</td>\n",
       "      <td>0.0</td>\n",
       "      <td>359760.0</td>\n",
       "      <td>0.0</td>\n",
       "    </tr>\n",
       "    <tr>\n",
       "      <th>649</th>\n",
       "      <td>11/1/21</td>\n",
       "      <td>0.0</td>\n",
       "      <td>359760.0</td>\n",
       "      <td>0.0</td>\n",
       "    </tr>\n",
       "    <tr>\n",
       "      <th>650</th>\n",
       "      <td>11/2/21</td>\n",
       "      <td>0.0</td>\n",
       "      <td>359760.0</td>\n",
       "      <td>0.0</td>\n",
       "    </tr>\n",
       "    <tr>\n",
       "      <th>651</th>\n",
       "      <td>11/3/21</td>\n",
       "      <td>0.0</td>\n",
       "      <td>359760.0</td>\n",
       "      <td>0.0</td>\n",
       "    </tr>\n",
       "  </tbody>\n",
       "</table>\n",
       "</div>"
      ],
      "text/plain": [
       "         Date  Cases  Cumulative Cases  infection rate\n",
       "647  10/30/21    0.0          359760.0             0.0\n",
       "648  10/31/21    0.0          359760.0             0.0\n",
       "649   11/1/21    0.0          359760.0             0.0\n",
       "650   11/2/21    0.0          359760.0             0.0\n",
       "651   11/3/21    0.0          359760.0             0.0"
      ]
     },
     "execution_count": 228,
     "metadata": {},
     "output_type": "execute_result"
    }
   ],
   "source": [
    "#Daily cases with infection rates\n",
    "broward_daily_cases_df.tail()"
   ]
  },
  {
   "cell_type": "code",
   "execution_count": 229,
   "metadata": {},
   "outputs": [],
   "source": [
    "#Derivative of daily infection rate\n",
    "broward_daily_cases_df['derivative of infection rate'] = (broward_daily_cases_df['infection rate'] - broward_daily_cases_df['infection rate'].shift(-1)).fillna(0)"
   ]
  },
  {
   "cell_type": "code",
   "execution_count": 230,
   "metadata": {},
   "outputs": [
    {
     "data": {
      "text/html": [
       "<div>\n",
       "<style scoped>\n",
       "    .dataframe tbody tr th:only-of-type {\n",
       "        vertical-align: middle;\n",
       "    }\n",
       "\n",
       "    .dataframe tbody tr th {\n",
       "        vertical-align: top;\n",
       "    }\n",
       "\n",
       "    .dataframe thead th {\n",
       "        text-align: right;\n",
       "    }\n",
       "</style>\n",
       "<table border=\"1\" class=\"dataframe\">\n",
       "  <thead>\n",
       "    <tr style=\"text-align: right;\">\n",
       "      <th></th>\n",
       "      <th>Date</th>\n",
       "      <th>Cases</th>\n",
       "      <th>Cumulative Cases</th>\n",
       "      <th>infection rate</th>\n",
       "      <th>derivative of infection rate</th>\n",
       "    </tr>\n",
       "  </thead>\n",
       "  <tbody>\n",
       "    <tr>\n",
       "      <th>647</th>\n",
       "      <td>10/30/21</td>\n",
       "      <td>0.0</td>\n",
       "      <td>359760.0</td>\n",
       "      <td>0.0</td>\n",
       "      <td>0.0</td>\n",
       "    </tr>\n",
       "    <tr>\n",
       "      <th>648</th>\n",
       "      <td>10/31/21</td>\n",
       "      <td>0.0</td>\n",
       "      <td>359760.0</td>\n",
       "      <td>0.0</td>\n",
       "      <td>0.0</td>\n",
       "    </tr>\n",
       "    <tr>\n",
       "      <th>649</th>\n",
       "      <td>11/1/21</td>\n",
       "      <td>0.0</td>\n",
       "      <td>359760.0</td>\n",
       "      <td>0.0</td>\n",
       "      <td>0.0</td>\n",
       "    </tr>\n",
       "    <tr>\n",
       "      <th>650</th>\n",
       "      <td>11/2/21</td>\n",
       "      <td>0.0</td>\n",
       "      <td>359760.0</td>\n",
       "      <td>0.0</td>\n",
       "      <td>0.0</td>\n",
       "    </tr>\n",
       "    <tr>\n",
       "      <th>651</th>\n",
       "      <td>11/3/21</td>\n",
       "      <td>0.0</td>\n",
       "      <td>359760.0</td>\n",
       "      <td>0.0</td>\n",
       "      <td>0.0</td>\n",
       "    </tr>\n",
       "  </tbody>\n",
       "</table>\n",
       "</div>"
      ],
      "text/plain": [
       "         Date  Cases  Cumulative Cases  infection rate  \\\n",
       "647  10/30/21    0.0          359760.0             0.0   \n",
       "648  10/31/21    0.0          359760.0             0.0   \n",
       "649   11/1/21    0.0          359760.0             0.0   \n",
       "650   11/2/21    0.0          359760.0             0.0   \n",
       "651   11/3/21    0.0          359760.0             0.0   \n",
       "\n",
       "     derivative of infection rate  \n",
       "647                           0.0  \n",
       "648                           0.0  \n",
       "649                           0.0  \n",
       "650                           0.0  \n",
       "651                           0.0  "
      ]
     },
     "execution_count": 230,
     "metadata": {},
     "output_type": "execute_result"
    }
   ],
   "source": [
    "#Daily cases with change of infection rate\n",
    "broward_daily_cases_df.tail()"
   ]
  },
  {
   "cell_type": "code",
   "execution_count": 231,
   "metadata": {},
   "outputs": [
    {
     "data": {
      "image/png": "[encoded data removed]",
      "text/plain": [
       "<Figure size 432x288 with 1 Axes>"
      ]
     },
     "metadata": {
      "needs_background": "light"
     },
     "output_type": "display_data"
    }
   ],
   "source": [
    "#Plot the daily infection rate\n",
    "ax = plt.gca()\n",
    "\n",
    "broward_daily_cases_df.plot(kind='line',x='Date',y='derivative of infection rate',ax=ax)\n",
    "\n",
    "plt.show()"
   ]
  },
  {
   "cell_type": "markdown",
   "metadata": {},
   "source": [
    "Note: June 5 to present they start reporting weekly cumulative instead of daily. To fix this we make the assumption that weeks with cumulative weekly reports are uniformly distributed throughout the week. "
   ]
  },
  {
   "cell_type": "code",
   "execution_count": 254,
   "metadata": {},
   "outputs": [],
   "source": [
    "#Create a new column with the cases column fixed\n",
    "broward_daily_cases_df['Cases Fixed'] = broward_daily_cases_df['Cases'].loc[0:500]"
   ]
  },
  {
   "cell_type": "code",
   "execution_count": 265,
   "metadata": {},
   "outputs": [
    {
     "name": "stderr",
     "output_type": "stream",
     "text": [
      "/Users/dwightsablan/opt/anaconda3/lib/python3.8/site-packages/pandas/core/indexing.py:1637: SettingWithCopyWarning: \n",
      "A value is trying to be set on a copy of a slice from a DataFrame\n",
      "\n",
      "See the caveats in the documentation: https://pandas.pydata.org/pandas-docs/stable/user_guide/indexing.html#returning-a-view-versus-a-copy\n",
      "  self._setitem_single_block(indexer, value, name)\n"
     ]
    }
   ],
   "source": [
    "#Average the cases for weeks with cumulative counts\n",
    "broward_daily_cases_df['Cases Fixed'].loc[501:501+5] = broward_daily_cases_df['Cases'].loc[506]/6"
   ]
  },
  {
   "cell_type": "code",
   "execution_count": 313,
   "metadata": {},
   "outputs": [
    {
     "name": "stderr",
     "output_type": "stream",
     "text": [
      "/Users/dwightsablan/opt/anaconda3/lib/python3.8/site-packages/pandas/core/indexing.py:1637: SettingWithCopyWarning: \n",
      "A value is trying to be set on a copy of a slice from a DataFrame\n",
      "\n",
      "See the caveats in the documentation: https://pandas.pydata.org/pandas-docs/stable/user_guide/indexing.html#returning-a-view-versus-a-copy\n",
      "  self._setitem_single_block(indexer, value, name)\n"
     ]
    }
   ],
   "source": [
    "#Average the cases for weeks with cumulative counts\n",
    "broward_daily_cases_df['Cases Fixed'].loc[507+7*19:507+6+7*19] = broward_daily_cases_df['Cases'].loc[513+7*19]/7"
   ]
  },
  {
   "cell_type": "code",
   "execution_count": 320,
   "metadata": {},
   "outputs": [],
   "source": [
    "#Cut the days we're not interested in\n",
    "broward_daily_cases_df = broward_daily_cases_df.iloc[:646, :]"
   ]
  },
  {
   "cell_type": "code",
   "execution_count": 322,
   "metadata": {},
   "outputs": [
    {
     "name": "stderr",
     "output_type": "stream",
     "text": [
      "<ipython-input-322-be513ee3f254>:2: SettingWithCopyWarning: \n",
      "A value is trying to be set on a copy of a slice from a DataFrame.\n",
      "Try using .loc[row_indexer,col_indexer] = value instead\n",
      "\n",
      "See the caveats in the documentation: https://pandas.pydata.org/pandas-docs/stable/user_guide/indexing.html#returning-a-view-versus-a-copy\n",
      "  broward_daily_cases_df['Cases Fixed'] = broward_daily_cases_df['Cases Fixed'].astype(int)\n"
     ]
    }
   ],
   "source": [
    "#Convert the cases fixed column to integers\n",
    "broward_daily_cases_df['Cases Fixed'] = broward_daily_cases_df['Cases Fixed'].astype(int)"
   ]
  },
  {
   "cell_type": "code",
   "execution_count": 342,
   "metadata": {},
   "outputs": [
    {
     "data": {
      "text/html": [
       "<div>\n",
       "<style scoped>\n",
       "    .dataframe tbody tr th:only-of-type {\n",
       "        vertical-align: middle;\n",
       "    }\n",
       "\n",
       "    .dataframe tbody tr th {\n",
       "        vertical-align: top;\n",
       "    }\n",
       "\n",
       "    .dataframe thead th {\n",
       "        text-align: right;\n",
       "    }\n",
       "</style>\n",
       "<table border=\"1\" class=\"dataframe\">\n",
       "  <thead>\n",
       "    <tr style=\"text-align: right;\">\n",
       "      <th></th>\n",
       "      <th>Date</th>\n",
       "      <th>Cases</th>\n",
       "      <th>Cumulative Cases</th>\n",
       "      <th>infection rate</th>\n",
       "      <th>derivative of infection rate</th>\n",
       "      <th>Cases Fixed</th>\n",
       "      <th>infection rate fixed</th>\n",
       "      <th>derivative of infection rate fixed</th>\n",
       "    </tr>\n",
       "  </thead>\n",
       "  <tbody>\n",
       "    <tr>\n",
       "      <th>642</th>\n",
       "      <td>10/25/21</td>\n",
       "      <td>0.0</td>\n",
       "      <td>358582.0</td>\n",
       "      <td>0.000000</td>\n",
       "      <td>0.000000</td>\n",
       "      <td>168</td>\n",
       "      <td>0.000086</td>\n",
       "      <td>0.0</td>\n",
       "    </tr>\n",
       "    <tr>\n",
       "      <th>643</th>\n",
       "      <td>10/26/21</td>\n",
       "      <td>0.0</td>\n",
       "      <td>358582.0</td>\n",
       "      <td>0.000000</td>\n",
       "      <td>0.000000</td>\n",
       "      <td>168</td>\n",
       "      <td>0.000086</td>\n",
       "      <td>0.0</td>\n",
       "    </tr>\n",
       "    <tr>\n",
       "      <th>644</th>\n",
       "      <td>10/27/21</td>\n",
       "      <td>0.0</td>\n",
       "      <td>358582.0</td>\n",
       "      <td>0.000000</td>\n",
       "      <td>0.000000</td>\n",
       "      <td>168</td>\n",
       "      <td>0.000086</td>\n",
       "      <td>0.0</td>\n",
       "    </tr>\n",
       "    <tr>\n",
       "      <th>645</th>\n",
       "      <td>10/28/21</td>\n",
       "      <td>0.0</td>\n",
       "      <td>358582.0</td>\n",
       "      <td>0.000000</td>\n",
       "      <td>-0.000606</td>\n",
       "      <td>168</td>\n",
       "      <td>0.000086</td>\n",
       "      <td>0.0</td>\n",
       "    </tr>\n",
       "    <tr>\n",
       "      <th>646</th>\n",
       "      <td>10/29/21</td>\n",
       "      <td>1178.0</td>\n",
       "      <td>359760.0</td>\n",
       "      <td>0.000606</td>\n",
       "      <td>0.000606</td>\n",
       "      <td>168</td>\n",
       "      <td>0.000086</td>\n",
       "      <td>0.0</td>\n",
       "    </tr>\n",
       "  </tbody>\n",
       "</table>\n",
       "</div>"
      ],
      "text/plain": [
       "         Date   Cases  Cumulative Cases  infection rate  \\\n",
       "642  10/25/21     0.0          358582.0        0.000000   \n",
       "643  10/26/21     0.0          358582.0        0.000000   \n",
       "644  10/27/21     0.0          358582.0        0.000000   \n",
       "645  10/28/21     0.0          358582.0        0.000000   \n",
       "646  10/29/21  1178.0          359760.0        0.000606   \n",
       "\n",
       "     derivative of infection rate  Cases Fixed  infection rate fixed  \\\n",
       "642                      0.000000          168              0.000086   \n",
       "643                      0.000000          168              0.000086   \n",
       "644                      0.000000          168              0.000086   \n",
       "645                     -0.000606          168              0.000086   \n",
       "646                      0.000606          168              0.000086   \n",
       "\n",
       "     derivative of infection rate fixed  \n",
       "642                                 0.0  \n",
       "643                                 0.0  \n",
       "644                                 0.0  \n",
       "645                                 0.0  \n",
       "646                                 0.0  "
      ]
     },
     "execution_count": 342,
     "metadata": {},
     "output_type": "execute_result"
    }
   ],
   "source": [
    "#Daily cases dataframe\n",
    "broward_daily_cases_df.tail()"
   ]
  },
  {
   "cell_type": "code",
   "execution_count": 325,
   "metadata": {},
   "outputs": [
    {
     "name": "stderr",
     "output_type": "stream",
     "text": [
      "<ipython-input-325-c3eb701682fd>:1: SettingWithCopyWarning: \n",
      "A value is trying to be set on a copy of a slice from a DataFrame.\n",
      "Try using .loc[row_indexer,col_indexer] = value instead\n",
      "\n",
      "See the caveats in the documentation: https://pandas.pydata.org/pandas-docs/stable/user_guide/indexing.html#returning-a-view-versus-a-copy\n",
      "  broward_daily_cases_df['infection rate fixed'] = broward_daily_cases_df['Cases Fixed']/broward_population\n"
     ]
    }
   ],
   "source": [
    "#Update infections rate column \n",
    "broward_daily_cases_df['infection rate fixed'] = broward_daily_cases_df['Cases Fixed']/broward_population"
   ]
  },
  {
   "cell_type": "code",
   "execution_count": 327,
   "metadata": {},
   "outputs": [
    {
     "name": "stderr",
     "output_type": "stream",
     "text": [
      "<ipython-input-327-32157a7b7d8a>:2: SettingWithCopyWarning: \n",
      "A value is trying to be set on a copy of a slice from a DataFrame.\n",
      "Try using .loc[row_indexer,col_indexer] = value instead\n",
      "\n",
      "See the caveats in the documentation: https://pandas.pydata.org/pandas-docs/stable/user_guide/indexing.html#returning-a-view-versus-a-copy\n",
      "  broward_daily_cases_df['derivative of infection rate fixed'] = (broward_daily_cases_df['infection rate fixed'] - broward_daily_cases_df['infection rate fixed'].shift(-1)).fillna(0)\n"
     ]
    }
   ],
   "source": [
    "#Update derivative of daily infection rate column\n",
    "broward_daily_cases_df['derivative of infection rate fixed'] = (broward_daily_cases_df['infection rate fixed'] - broward_daily_cases_df['infection rate fixed'].shift(-1)).fillna(0)"
   ]
  },
  {
   "cell_type": "code",
   "execution_count": 330,
   "metadata": {},
   "outputs": [
    {
     "data": {
      "image/png": "[encoded data removed]",
      "text/plain": [
       "<Figure size 432x288 with 1 Axes>"
      ]
     },
     "metadata": {
      "needs_background": "light"
     },
     "output_type": "display_data"
    }
   ],
   "source": [
    "#Plot daily infection rate\n",
    "ax = plt.gca()\n",
    "\n",
    "broward_daily_cases_df.plot(kind='line',x='Date',y='infection rate fixed',ax=ax)\n",
    "\n",
    "plt.show()"
   ]
  },
  {
   "cell_type": "code",
   "execution_count": 432,
   "metadata": {},
   "outputs": [
    {
     "data": {
      "image/png": "[encoded data removed]",
      "text/plain": [
       "<Figure size 1200x800 with 1 Axes>"
      ]
     },
     "metadata": {
      "needs_background": "light"
     },
     "output_type": "display_data"
    }
   ],
   "source": [
    "#Plot Daily Infection Rates with Mask Mandate data\n",
    "fig = plt.figure(figsize=(12, 8), dpi=100)\n",
    "ax = plt.axes()\n",
    "\n",
    "plt.axhline(y = 0.0005, linestyle='dashed')\n",
    "plt.axhline(y = 0, linestyle='dashed')\n",
    "plt.axhline(y = -0.0005, linestyle='dashed')\n",
    "plt.axhline(y = -0.001, linestyle='dashed')\n",
    "\n",
    "x = broward_daily_cases_df['Date']\n",
    "y = broward_daily_cases_df['derivative of infection rate fixed']\n",
    "\n",
    "ax.plot(x, y, color='maroon')\n",
    "\n",
    "hfont = {'fontname':'Helvetica'}\n",
    "plt.title(\"Change in Daily Covid-19 Infection Rates in Broward, Florida (2020-2021)\", **hfont, size = 25)\n",
    "plt.xlabel(\"Date\", **hfont, size = 20)\n",
    "plt.ylabel(\"Change in Infection Rate\", **hfont, size = 20)\n",
    "\n",
    "red_patch = mpatches.Patch(color='maroon', label='Change in Daily Infection Rate')\n",
    "\n",
    "ax.axvspan('4/10/20', '8/15/21', alpha=0.5, color='yellow')\n",
    "\n",
    "yellow_patch = mpatches.Patch(color='yellow', label='Order 2 Mask Mandate in Effect')\n",
    "plt.legend(handles=[red_patch, yellow_patch])\n",
    "\n",
    "ax.axes.xaxis.set_ticks([])\n",
    "\n",
    "plt.show()\n"
   ]
  }
 ],
 "metadata": {
  "kernelspec": {
   "display_name": "Python 3",
   "language": "python",
   "name": "python3"
  },
  "language_info": {
   "codemirror_mode": {
    "name": "ipython",
    "version": 3
   },
   "file_extension": ".py",
   "mimetype": "text/x-python",
   "name": "python",
   "nbconvert_exporter": "python",
   "pygments_lexer": "ipython3",
   "version": "3.8.3"
  }
 },
 "nbformat": 4,
 "nbformat_minor": 4
}
